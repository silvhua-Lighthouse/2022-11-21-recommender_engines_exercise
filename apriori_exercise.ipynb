{
 "cells": [
  {
   "cell_type": "code",
   "execution_count": 3,
   "metadata": {
    "ExecuteTime": {
     "end_time": "2020-04-30T11:40:10.388626Z",
     "start_time": "2020-04-30T11:40:09.944952Z"
    }
   },
   "outputs": [],
   "source": [
    "# import pandas\n",
    "import pandas as pd  \n",
    "\n",
    "# from apyori import apriori\n",
    "from apyori import apriori"
   ]
  },
  {
   "cell_type": "code",
   "execution_count": 4,
   "metadata": {
    "ExecuteTime": {
     "end_time": "2020-04-30T11:40:11.501307Z",
     "start_time": "2020-04-30T11:40:10.963718Z"
    }
   },
   "outputs": [
    {
     "name": "stdout",
     "output_type": "stream",
     "text": [
      "(7501, 20)\n"
     ]
    },
    {
     "data": {
      "text/html": [
       "<div>\n",
       "<style scoped>\n",
       "    .dataframe tbody tr th:only-of-type {\n",
       "        vertical-align: middle;\n",
       "    }\n",
       "\n",
       "    .dataframe tbody tr th {\n",
       "        vertical-align: top;\n",
       "    }\n",
       "\n",
       "    .dataframe thead th {\n",
       "        text-align: right;\n",
       "    }\n",
       "</style>\n",
       "<table border=\"1\" class=\"dataframe\">\n",
       "  <thead>\n",
       "    <tr style=\"text-align: right;\">\n",
       "      <th></th>\n",
       "      <th>0</th>\n",
       "      <th>1</th>\n",
       "      <th>2</th>\n",
       "      <th>3</th>\n",
       "      <th>4</th>\n",
       "      <th>5</th>\n",
       "      <th>6</th>\n",
       "      <th>7</th>\n",
       "      <th>8</th>\n",
       "      <th>9</th>\n",
       "      <th>10</th>\n",
       "      <th>11</th>\n",
       "      <th>12</th>\n",
       "      <th>13</th>\n",
       "      <th>14</th>\n",
       "      <th>15</th>\n",
       "      <th>16</th>\n",
       "      <th>17</th>\n",
       "      <th>18</th>\n",
       "      <th>19</th>\n",
       "    </tr>\n",
       "  </thead>\n",
       "  <tbody>\n",
       "    <tr>\n",
       "      <th>0</th>\n",
       "      <td>The Revenant</td>\n",
       "      <td>13 Hours</td>\n",
       "      <td>Allied</td>\n",
       "      <td>Zootopia</td>\n",
       "      <td>Jigsaw</td>\n",
       "      <td>Achorman</td>\n",
       "      <td>Grinch</td>\n",
       "      <td>Fast and Furious</td>\n",
       "      <td>Ghostbusters</td>\n",
       "      <td>Wolverine</td>\n",
       "      <td>Mad Max</td>\n",
       "      <td>John Wick</td>\n",
       "      <td>La La Land</td>\n",
       "      <td>The Good Dunosaur</td>\n",
       "      <td>Ninja Turtles</td>\n",
       "      <td>The Good Dunosaur Bad Moms</td>\n",
       "      <td>2 Guns</td>\n",
       "      <td>Inside Out</td>\n",
       "      <td>Valerian</td>\n",
       "      <td>Spiderman 3</td>\n",
       "    </tr>\n",
       "    <tr>\n",
       "      <th>1</th>\n",
       "      <td>Beirut</td>\n",
       "      <td>Martian</td>\n",
       "      <td>Get Out</td>\n",
       "      <td>NaN</td>\n",
       "      <td>NaN</td>\n",
       "      <td>NaN</td>\n",
       "      <td>NaN</td>\n",
       "      <td>NaN</td>\n",
       "      <td>NaN</td>\n",
       "      <td>NaN</td>\n",
       "      <td>NaN</td>\n",
       "      <td>NaN</td>\n",
       "      <td>NaN</td>\n",
       "      <td>NaN</td>\n",
       "      <td>NaN</td>\n",
       "      <td>NaN</td>\n",
       "      <td>NaN</td>\n",
       "      <td>NaN</td>\n",
       "      <td>NaN</td>\n",
       "      <td>NaN</td>\n",
       "    </tr>\n",
       "    <tr>\n",
       "      <th>2</th>\n",
       "      <td>Deadpool</td>\n",
       "      <td>NaN</td>\n",
       "      <td>NaN</td>\n",
       "      <td>NaN</td>\n",
       "      <td>NaN</td>\n",
       "      <td>NaN</td>\n",
       "      <td>NaN</td>\n",
       "      <td>NaN</td>\n",
       "      <td>NaN</td>\n",
       "      <td>NaN</td>\n",
       "      <td>NaN</td>\n",
       "      <td>NaN</td>\n",
       "      <td>NaN</td>\n",
       "      <td>NaN</td>\n",
       "      <td>NaN</td>\n",
       "      <td>NaN</td>\n",
       "      <td>NaN</td>\n",
       "      <td>NaN</td>\n",
       "      <td>NaN</td>\n",
       "      <td>NaN</td>\n",
       "    </tr>\n",
       "    <tr>\n",
       "      <th>3</th>\n",
       "      <td>X-Men</td>\n",
       "      <td>Allied</td>\n",
       "      <td>NaN</td>\n",
       "      <td>NaN</td>\n",
       "      <td>NaN</td>\n",
       "      <td>NaN</td>\n",
       "      <td>NaN</td>\n",
       "      <td>NaN</td>\n",
       "      <td>NaN</td>\n",
       "      <td>NaN</td>\n",
       "      <td>NaN</td>\n",
       "      <td>NaN</td>\n",
       "      <td>NaN</td>\n",
       "      <td>NaN</td>\n",
       "      <td>NaN</td>\n",
       "      <td>NaN</td>\n",
       "      <td>NaN</td>\n",
       "      <td>NaN</td>\n",
       "      <td>NaN</td>\n",
       "      <td>NaN</td>\n",
       "    </tr>\n",
       "    <tr>\n",
       "      <th>4</th>\n",
       "      <td>Ninja Turtles</td>\n",
       "      <td>Moana</td>\n",
       "      <td>Ghost in the Shell</td>\n",
       "      <td>Ralph Breaks the Internet</td>\n",
       "      <td>John Wick</td>\n",
       "      <td>NaN</td>\n",
       "      <td>NaN</td>\n",
       "      <td>NaN</td>\n",
       "      <td>NaN</td>\n",
       "      <td>NaN</td>\n",
       "      <td>NaN</td>\n",
       "      <td>NaN</td>\n",
       "      <td>NaN</td>\n",
       "      <td>NaN</td>\n",
       "      <td>NaN</td>\n",
       "      <td>NaN</td>\n",
       "      <td>NaN</td>\n",
       "      <td>NaN</td>\n",
       "      <td>NaN</td>\n",
       "      <td>NaN</td>\n",
       "    </tr>\n",
       "  </tbody>\n",
       "</table>\n",
       "</div>"
      ],
      "text/plain": [
       "              0         1                   2                          3   \\\n",
       "0   The Revenant  13 Hours              Allied                   Zootopia   \n",
       "1         Beirut   Martian             Get Out                        NaN   \n",
       "2       Deadpool       NaN                 NaN                        NaN   \n",
       "3          X-Men    Allied                 NaN                        NaN   \n",
       "4  Ninja Turtles     Moana  Ghost in the Shell  Ralph Breaks the Internet   \n",
       "\n",
       "          4         5       6                 7             8          9   \\\n",
       "0     Jigsaw  Achorman  Grinch  Fast and Furious  Ghostbusters  Wolverine   \n",
       "1        NaN       NaN     NaN               NaN           NaN        NaN   \n",
       "2        NaN       NaN     NaN               NaN           NaN        NaN   \n",
       "3        NaN       NaN     NaN               NaN           NaN        NaN   \n",
       "4  John Wick       NaN     NaN               NaN           NaN        NaN   \n",
       "\n",
       "        10         11          12                 13             14  \\\n",
       "0  Mad Max  John Wick  La La Land  The Good Dunosaur  Ninja Turtles   \n",
       "1      NaN        NaN         NaN                NaN            NaN   \n",
       "2      NaN        NaN         NaN                NaN            NaN   \n",
       "3      NaN        NaN         NaN                NaN            NaN   \n",
       "4      NaN        NaN         NaN                NaN            NaN   \n",
       "\n",
       "                           15      16          17        18           19  \n",
       "0  The Good Dunosaur Bad Moms  2 Guns  Inside Out  Valerian  Spiderman 3  \n",
       "1                         NaN     NaN         NaN       NaN          NaN  \n",
       "2                         NaN     NaN         NaN       NaN          NaN  \n",
       "3                         NaN     NaN         NaN       NaN          NaN  \n",
       "4                         NaN     NaN         NaN       NaN          NaN  "
      ]
     },
     "execution_count": 4,
     "metadata": {},
     "output_type": "execute_result"
    }
   ],
   "source": [
    "# load data \n",
    "movie_data = pd.read_csv('https://raw.githubusercontent.com/pirandello/apriori/master/movie_dataset.csv', \n",
    "                         header = None)\n",
    "print(movie_data.shape)\n",
    "movie_data.head()"
   ]
  },
  {
   "cell_type": "markdown",
   "metadata": {},
   "source": [
    "* explore the dataset"
   ]
  },
  {
   "cell_type": "markdown",
   "metadata": {},
   "source": [
    "* transform dataframe to list of lists (suitable format for apyori)"
   ]
  },
  {
   "cell_type": "code",
   "execution_count": 6,
   "metadata": {},
   "outputs": [
    {
     "data": {
      "text/plain": [
       "[['The Revenant',\n",
       "  '13 Hours',\n",
       "  'Allied',\n",
       "  'Zootopia',\n",
       "  'Jigsaw',\n",
       "  'Achorman',\n",
       "  'Grinch',\n",
       "  'Fast and Furious',\n",
       "  'Ghostbusters',\n",
       "  'Wolverine',\n",
       "  'Mad Max',\n",
       "  'John Wick',\n",
       "  'La La Land',\n",
       "  'The Good Dunosaur',\n",
       "  'Ninja Turtles',\n",
       "  'The Good Dunosaur Bad Moms',\n",
       "  '2 Guns',\n",
       "  'Inside Out',\n",
       "  'Valerian',\n",
       "  'Spiderman 3'],\n",
       " ['Beirut',\n",
       "  'Martian',\n",
       "  'Get Out',\n",
       "  'nan',\n",
       "  'nan',\n",
       "  'nan',\n",
       "  'nan',\n",
       "  'nan',\n",
       "  'nan',\n",
       "  'nan',\n",
       "  'nan',\n",
       "  'nan',\n",
       "  'nan',\n",
       "  'nan',\n",
       "  'nan',\n",
       "  'nan',\n",
       "  'nan',\n",
       "  'nan',\n",
       "  'nan',\n",
       "  'nan']]"
      ]
     },
     "execution_count": 6,
     "metadata": {},
     "output_type": "execute_result"
    }
   ],
   "source": [
    "records = []\n",
    "for i in range(len(movie_data)):\n",
    "    records.append([str(movie_data.values[i, j]) for j in range(20)])\n",
    "records[0:2]"
   ]
  },
  {
   "cell_type": "code",
   "execution_count": 7,
   "metadata": {},
   "outputs": [
    {
     "data": {
      "text/plain": [
       "7501"
      ]
     },
     "execution_count": 7,
     "metadata": {},
     "output_type": "execute_result"
    }
   ],
   "source": [
    "len(records)"
   ]
  },
  {
   "cell_type": "markdown",
   "metadata": {},
   "source": [
    "* instantiate apriori and set the input params based on following constraints:\n",
    "    * we want only movies that are purchased at least 40 times\n",
    "    * the minimum confidence for the rules is 20%\n",
    "    * the minumum lift is 3"
   ]
  },
  {
   "cell_type": "code",
   "execution_count": 9,
   "metadata": {
    "ExecuteTime": {
     "end_time": "2020-04-30T11:40:35.334675Z",
     "start_time": "2020-04-30T11:40:35.306867Z"
    }
   },
   "outputs": [],
   "source": [
    "association_rules = apriori(records, min_length=2,\n",
    "    min_support=40/len(records),\n",
    "    min_confidence=.2,\n",
    "    min_lift=3\n",
    "    )"
   ]
  },
  {
   "cell_type": "markdown",
   "metadata": {},
   "source": [
    "* how many association rules did we obtained ?"
   ]
  },
  {
   "cell_type": "code",
   "execution_count": 10,
   "metadata": {
    "ExecuteTime": {
     "end_time": "2020-04-30T11:41:35.441177Z",
     "start_time": "2020-04-30T11:41:33.734304Z"
    }
   },
   "outputs": [
    {
     "data": {
      "text/plain": [
       "32"
      ]
     },
     "execution_count": 10,
     "metadata": {},
     "output_type": "execute_result"
    }
   ],
   "source": [
    "association_results = list(association_rules)\n",
    "len(association_results)"
   ]
  },
  {
   "cell_type": "markdown",
   "metadata": {},
   "source": [
    "* print the first association rule"
   ]
  },
  {
   "cell_type": "code",
   "execution_count": 17,
   "metadata": {},
   "outputs": [
    {
     "data": {
      "text/plain": [
       "RelationRecord(items=frozenset({'Star Wars', 'Green Lantern'}), support=0.005865884548726837, ordered_statistics=[OrderedStatistic(items_base=frozenset({'Star Wars'}), items_add=frozenset({'Green Lantern'}), confidence=0.3728813559322034, lift=4.700811850163794)])"
      ]
     },
     "execution_count": 17,
     "metadata": {},
     "output_type": "execute_result"
    }
   ],
   "source": [
    "association_results[1]"
   ]
  },
  {
   "cell_type": "markdown",
   "metadata": {},
   "source": [
    "* convert association rules to DataFrame \n",
    "    * use these columns: title_1, title_2, support, confidence, lift"
   ]
  },
  {
   "cell_type": "code",
   "execution_count": 25,
   "metadata": {
    "ExecuteTime": {
     "end_time": "2020-04-30T11:41:49.751361Z",
     "start_time": "2020-04-30T11:41:49.744749Z"
    }
   },
   "outputs": [
    {
     "data": {
      "text/html": [
       "<div>\n",
       "<style scoped>\n",
       "    .dataframe tbody tr th:only-of-type {\n",
       "        vertical-align: middle;\n",
       "    }\n",
       "\n",
       "    .dataframe tbody tr th {\n",
       "        vertical-align: top;\n",
       "    }\n",
       "\n",
       "    .dataframe thead th {\n",
       "        text-align: right;\n",
       "    }\n",
       "</style>\n",
       "<table border=\"1\" class=\"dataframe\">\n",
       "  <thead>\n",
       "    <tr style=\"text-align: right;\">\n",
       "      <th></th>\n",
       "      <th>Title 1</th>\n",
       "      <th>Title 2</th>\n",
       "      <th>Support</th>\n",
       "      <th>Confidence</th>\n",
       "      <th>Lift</th>\n",
       "    </tr>\n",
       "  </thead>\n",
       "  <tbody>\n",
       "    <tr>\n",
       "      <th>0</th>\n",
       "      <td>Green Lantern</td>\n",
       "      <td>Red Sparrow</td>\n",
       "      <td>0.005733</td>\n",
       "      <td>0.300699</td>\n",
       "      <td>3.790833</td>\n",
       "    </tr>\n",
       "    <tr>\n",
       "      <th>1</th>\n",
       "      <td>Star Wars</td>\n",
       "      <td>Green Lantern</td>\n",
       "      <td>0.005866</td>\n",
       "      <td>0.372881</td>\n",
       "      <td>4.700812</td>\n",
       "    </tr>\n",
       "    <tr>\n",
       "      <th>2</th>\n",
       "      <td>Jumanji</td>\n",
       "      <td>Kung Fu Panda</td>\n",
       "      <td>0.015998</td>\n",
       "      <td>0.323450</td>\n",
       "      <td>3.291994</td>\n",
       "    </tr>\n",
       "    <tr>\n",
       "      <th>3</th>\n",
       "      <td>Jumanji</td>\n",
       "      <td>Wonder Woman</td>\n",
       "      <td>0.005333</td>\n",
       "      <td>0.377358</td>\n",
       "      <td>3.840659</td>\n",
       "    </tr>\n",
       "    <tr>\n",
       "      <th>4</th>\n",
       "      <td>The Spy Who Dumped Me</td>\n",
       "      <td>Spiderman 3</td>\n",
       "      <td>0.007999</td>\n",
       "      <td>0.271493</td>\n",
       "      <td>4.122410</td>\n",
       "    </tr>\n",
       "  </tbody>\n",
       "</table>\n",
       "</div>"
      ],
      "text/plain": [
       "                 Title 1        Title 2   Support  Confidence      Lift\n",
       "0          Green Lantern    Red Sparrow  0.005733    0.300699  3.790833\n",
       "1              Star Wars  Green Lantern  0.005866    0.372881  4.700812\n",
       "2                Jumanji  Kung Fu Panda  0.015998    0.323450  3.291994\n",
       "3                Jumanji   Wonder Woman  0.005333    0.377358  3.840659\n",
       "4  The Spy Who Dumped Me    Spiderman 3  0.007999    0.271493  4.122410"
      ]
     },
     "execution_count": 25,
     "metadata": {},
     "output_type": "execute_result"
    }
   ],
   "source": [
    "results = []\n",
    "for item in association_results:\n",
    "    # first index of the inner list contains base item and add item.\n",
    "    # A pair may contain more than 2 items because each \"item\" in the pair can contain more than 1 movie.\n",
    "    pair = item[0]\n",
    "    items = [item for item in pair]\n",
    "    title1 = str(items[0])\n",
    "    title2 = str(items[1])\n",
    "    # support = (item[1]).str.replace('\\w+=(\\d*.\\d*)', '\\\\1', regex=True)\n",
    "    support = item[1]\n",
    "    #third index of the list located at 0th of the third index of the inner list\n",
    "    confidence = item[2][0][2]\n",
    "    lift = item[2][0][3]\n",
    "    rows = (title1, title2, support, confidence, lift)\n",
    "    results.append(rows)\n",
    "labels = ['Title 1','Title 2','Support','Confidence','Lift']\n",
    "movie_suggestion = pd.DataFrame.from_records(results, columns = labels)\n",
    "movie_suggestion.head()"
   ]
  },
  {
   "cell_type": "code",
   "execution_count": null,
   "metadata": {},
   "outputs": [],
   "source": []
  },
  {
   "cell_type": "code",
   "execution_count": null,
   "metadata": {
    "ExecuteTime": {
     "end_time": "2020-04-07T13:07:29.924870Z",
     "start_time": "2020-04-07T13:07:29.917054Z"
    }
   },
   "outputs": [],
   "source": []
  },
  {
   "cell_type": "code",
   "execution_count": null,
   "metadata": {},
   "outputs": [],
   "source": []
  },
  {
   "cell_type": "code",
   "execution_count": null,
   "metadata": {
    "ExecuteTime": {
     "end_time": "2020-04-30T11:42:41.014360Z",
     "start_time": "2020-04-30T11:42:40.984827Z"
    }
   },
   "outputs": [],
   "source": []
  }
 ],
 "metadata": {
  "kernelspec": {
   "display_name": "Python 3.9.13 ('cloudEnv')",
   "language": "python",
   "name": "python3"
  },
  "language_info": {
   "codemirror_mode": {
    "name": "ipython",
    "version": 3
   },
   "file_extension": ".py",
   "mimetype": "text/x-python",
   "name": "python",
   "nbconvert_exporter": "python",
   "pygments_lexer": "ipython3",
   "version": "3.9.13"
  },
  "toc": {
   "base_numbering": 1,
   "nav_menu": {},
   "number_sections": true,
   "sideBar": true,
   "skip_h1_title": false,
   "title_cell": "Table of Contents",
   "title_sidebar": "Contents",
   "toc_cell": false,
   "toc_position": {},
   "toc_section_display": true,
   "toc_window_display": false
  },
  "varInspector": {
   "cols": {
    "lenName": 16,
    "lenType": 16,
    "lenVar": 40
   },
   "kernels_config": {
    "python": {
     "delete_cmd_postfix": "",
     "delete_cmd_prefix": "del ",
     "library": "var_list.py",
     "varRefreshCmd": "print(var_dic_list())"
    },
    "r": {
     "delete_cmd_postfix": ") ",
     "delete_cmd_prefix": "rm(",
     "library": "var_list.r",
     "varRefreshCmd": "cat(var_dic_list()) "
    }
   },
   "types_to_exclude": [
    "module",
    "function",
    "builtin_function_or_method",
    "instance",
    "_Feature"
   ],
   "window_display": false
  },
  "vscode": {
   "interpreter": {
    "hash": "86576fc1f72bb8252e2f1578cc878ed2c12b40840637cdef083c8fb979cf67d3"
   }
  }
 },
 "nbformat": 4,
 "nbformat_minor": 4
}
